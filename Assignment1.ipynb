{
    "cells": [
        {
            "metadata": {
                "collapsed": true
            },
            "cell_type": "markdown",
            "source": "# My Jupyter Notebook on IBM Watson Studio"
        },
        {
            "metadata": {},
            "cell_type": "markdown",
            "source": "**Zhemin Wu**\n<br>\nCurrent Occupation: Financial Risk Manager    \nDesired Occupation: Data Scientist in Financial Sector"
        },
        {
            "metadata": {},
            "cell_type": "markdown",
            "source": "_I am interested in data science because data driven quantitative analysis is a new trend in finanical industry and I'd like to explore more opputinities in this area._"
        },
        {
            "metadata": {},
            "cell_type": "markdown",
            "source": "### The below codes define a function which will return a Fibonacci series up to n. The funcition is called and the result is printed."
        },
        {
            "metadata": {},
            "cell_type": "code",
            "source": "def fib(n):  # return Fibonacci series up to n\n    result = []\n    a, b = 0, 1\n    while a < n:\n        result.append(a)\n        a, b = b, a + b\n    return result\n\nresult = fib(10)\nprint(result)",
            "execution_count": 1,
            "outputs": [
                {
                    "output_type": "stream",
                    "text": "[0, 1, 1, 2, 3, 5, 8]\n",
                    "name": "stdout"
                }
            ]
        },
        {
            "metadata": {},
            "cell_type": "markdown",
            "source": "The below is a horizontal rule\n___\n\n\nThe below is a bulleted list\n* Item 1\n* Item 2\n* Item 3\n\nThe below is a numbered list\n1. Item 1\n2. Item 2\n3. Item 3\n\n\nThe below is a strikethrough\n<br>\n~~Scratch this.~~\n\n\nThe below is a table\n\n| Col 1 | Col 2 | Col 3|\n| ----- | ----- | ---- |\n| a | b | c |\n| d | e | f |\n\n\nThe below is a hyperlink\n\n[https://www.google.com](https://www.google.com)\n\n\nThe below is a image\n![alt text](https://github.com/adam-p/markdown-here/raw/master/src/common/images/icon48.png )\n\n"
        },
        {
            "metadata": {},
            "cell_type": "code",
            "source": "",
            "execution_count": null,
            "outputs": []
        }
    ],
    "metadata": {
        "kernelspec": {
            "name": "python3",
            "display_name": "Python 3.7",
            "language": "python"
        },
        "language_info": {
            "name": "python",
            "version": "3.7.9",
            "mimetype": "text/x-python",
            "codemirror_mode": {
                "name": "ipython",
                "version": 3
            },
            "pygments_lexer": "ipython3",
            "nbconvert_exporter": "python",
            "file_extension": ".py"
        }
    },
    "nbformat": 4,
    "nbformat_minor": 1
}